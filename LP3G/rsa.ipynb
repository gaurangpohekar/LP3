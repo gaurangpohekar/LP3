{
 "cells": [
  {
   "cell_type": "code",
   "execution_count": 11,
   "id": "b989716f",
   "metadata": {},
   "outputs": [],
   "source": [
    "from random import randint\n",
    "from math import gcd"
   ]
  },
  {
   "cell_type": "code",
   "execution_count": 23,
   "id": "a8e53827",
   "metadata": {},
   "outputs": [],
   "source": [
    "def generate_keys(p,q):\n",
    "    \n",
    "    n=p*q\n",
    "    phi_n=(p-1)*(q-1)\n",
    "    print(phi_n)\n",
    "    e=2\n",
    "    while gcd(phi_n,e)!=1:\n",
    "        e+=1\n",
    "    \n",
    "    print(e)\n",
    "    k=1\n",
    "    while (k*phi_n+1)%e != 0:\n",
    "        k+=1\n",
    "    d=(k*phi_n+1)//e\n",
    "    \n",
    "    return (e,n),(d,n)\n",
    "    "
   ]
  },
  {
   "cell_type": "code",
   "execution_count": 24,
   "id": "20832020",
   "metadata": {},
   "outputs": [
    {
     "name": "stdout",
     "output_type": "stream",
     "text": [
      "3016\n",
      "3\n"
     ]
    }
   ],
   "source": [
    "publickey,privatekey=generate_keys(53,59)"
   ]
  },
  {
   "cell_type": "code",
   "execution_count": 25,
   "id": "8f3dafd1",
   "metadata": {},
   "outputs": [
    {
     "data": {
      "text/plain": [
       "(3, 3127)"
      ]
     },
     "execution_count": 25,
     "metadata": {},
     "output_type": "execute_result"
    }
   ],
   "source": [
    "publickey"
   ]
  },
  {
   "cell_type": "code",
   "execution_count": 26,
   "id": "04bbcf72",
   "metadata": {},
   "outputs": [
    {
     "data": {
      "text/plain": [
       "(2011, 3127)"
      ]
     },
     "execution_count": 26,
     "metadata": {},
     "output_type": "execute_result"
    }
   ],
   "source": [
    "privatekey"
   ]
  },
  {
   "cell_type": "code",
   "execution_count": 37,
   "id": "0e769715",
   "metadata": {},
   "outputs": [
    {
     "data": {
      "text/plain": [
       "2576"
      ]
     },
     "execution_count": 37,
     "metadata": {},
     "output_type": "execute_result"
    }
   ],
   "source": [
    "def encrypt(plain,publickey):\n",
    "    e,n=publickey\n",
    "    cipher=plain**e % n\n",
    "    return cipher\n",
    "\n",
    "c=encrypt(ord('A'),publickey)\n",
    "c"
   ]
  },
  {
   "cell_type": "code",
   "execution_count": 39,
   "id": "36951cea",
   "metadata": {},
   "outputs": [
    {
     "data": {
      "text/plain": [
       "'A'"
      ]
     },
     "execution_count": 39,
     "metadata": {},
     "output_type": "execute_result"
    }
   ],
   "source": [
    "def decrypt(cipher,privatekey):\n",
    "    d,n=privatekey\n",
    "    plain=cipher**d % n\n",
    "    return plain\n",
    "\n",
    "p=decrypt(c,privatekey)\n",
    "chr(p)"
   ]
  },
  {
   "cell_type": "code",
   "execution_count": 41,
   "id": "c3378376",
   "metadata": {},
   "outputs": [
    {
     "data": {
      "text/plain": [
       "'ȻѬѬ\\u0a62'"
      ]
     },
     "execution_count": 41,
     "metadata": {},
     "output_type": "execute_result"
    }
   ],
   "source": [
    "def enc(plaintxt,publickey):\n",
    "    ciphertxt=''\n",
    "    for character in plaintxt:\n",
    "        ciphertxt+=chr(encrypt(ord(character),publickey))\n",
    "    return ciphertxt\n",
    "ciphert=enc('Cool',publickey)\n",
    "ciphert"
   ]
  },
  {
   "cell_type": "code",
   "execution_count": 34,
   "id": "ab5a5aa7",
   "metadata": {},
   "outputs": [],
   "source": [
    "def dcc(ciphertxt,privatekey):\n",
    "    plaintxt=''\n",
    "    for character in ciphertxt:\n",
    "        plaintxt+=chr(decrypt(ord(character),privatekey))\n",
    "    return plaintxt"
   ]
  },
  {
   "cell_type": "code",
   "execution_count": 45,
   "id": "f4f0fc16",
   "metadata": {},
   "outputs": [
    {
     "data": {
      "text/plain": [
       "'ষࣟ'"
      ]
     },
     "execution_count": 45,
     "metadata": {},
     "output_type": "execute_result"
    }
   ],
   "source": [
    "cipher=enc('dh',publickey)\n",
    "cipher"
   ]
  },
  {
   "cell_type": "code",
   "execution_count": 46,
   "id": "16f5dee3",
   "metadata": {},
   "outputs": [],
   "source": [
    "dplain=dcc(cipher,privatekey)"
   ]
  },
  {
   "cell_type": "code",
   "execution_count": 47,
   "id": "92ae386f",
   "metadata": {},
   "outputs": [
    {
     "data": {
      "text/plain": [
       "'dh'"
      ]
     },
     "execution_count": 47,
     "metadata": {},
     "output_type": "execute_result"
    }
   ],
   "source": [
    "dplain"
   ]
  },
  {
   "cell_type": "code",
   "execution_count": null,
   "id": "c7703c4c",
   "metadata": {},
   "outputs": [],
   "source": []
  }
 ],
 "metadata": {
  "kernelspec": {
   "display_name": "Python 3",
   "language": "python",
   "name": "python3"
  },
  "language_info": {
   "codemirror_mode": {
    "name": "ipython",
    "version": 3
   },
   "file_extension": ".py",
   "mimetype": "text/x-python",
   "name": "python",
   "nbconvert_exporter": "python",
   "pygments_lexer": "ipython3",
   "version": "3.8.8"
  }
 },
 "nbformat": 4,
 "nbformat_minor": 5
}
