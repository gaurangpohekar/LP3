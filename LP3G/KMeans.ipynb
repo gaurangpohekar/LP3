{
 "cells": [
  {
   "cell_type": "code",
   "execution_count": 36,
   "id": "3d3eb288",
   "metadata": {},
   "outputs": [],
   "source": [
    "import pandas as pd\n",
    "import numpy as np\n",
    "import matplotlib.pyplot as plt\n",
    "import seaborn as sns\n",
    "sns.set(rc={'figure.figsize':(7,7)})"
   ]
  },
  {
   "cell_type": "code",
   "execution_count": 54,
   "id": "9ac1ac92",
   "metadata": {},
   "outputs": [],
   "source": [
    "class KMeans:\n",
    "    def __init__(self,k):\n",
    "        self.k=k\n",
    "        \n",
    "    def __distance(self,x,y):\n",
    "        return (x[0]-y[0])**2 + (x[1]-y[1])**2\n",
    "    \n",
    "    def fit(self,points,centroids):\n",
    "        prev_clusters=None\n",
    "        clusters=[set() for i in range(self.k)]\n",
    "        \n",
    "        while prev_clusters != clusters:\n",
    "            prev_clusters=clusters\n",
    "            print(prev_clusters)\n",
    "            for p in points:\n",
    "                idx=0\n",
    "                for i in range(1,self.k):\n",
    "                    if self.__distance(p,centroids[i])<self.__distance(p,centroids[idx]):\n",
    "                        idx=i\n",
    "                clusters[idx].add(p)\n",
    "                \n",
    "            print(centroids)\n",
    "            for i in range(self.k):\n",
    "                centroids[i]=np.mean(list(clusters[i]),axis=0)\n",
    "                \n",
    "            print(centroids)\n",
    "                \n",
    "        return clusters,centroids\n"
   ]
  },
  {
   "cell_type": "code",
   "execution_count": 55,
   "id": "bbbfdccc",
   "metadata": {},
   "outputs": [],
   "source": [
    "points = [\n",
    "          (0.1, 0.6),\n",
    "          (0.15, 0.71),\n",
    "          (0.08,0.9),\n",
    "          (0.16, 0.85),\n",
    "          (0.2,0.3),\n",
    "          (0.25,0.5),\n",
    "          (0.24,0.1),\n",
    "          (0.3,0.2)\n",
    "]"
   ]
  },
  {
   "cell_type": "code",
   "execution_count": 56,
   "id": "d2ab9198",
   "metadata": {},
   "outputs": [
    {
     "data": {
      "text/html": [
       "<div>\n",
       "<style scoped>\n",
       "    .dataframe tbody tr th:only-of-type {\n",
       "        vertical-align: middle;\n",
       "    }\n",
       "\n",
       "    .dataframe tbody tr th {\n",
       "        vertical-align: top;\n",
       "    }\n",
       "\n",
       "    .dataframe thead th {\n",
       "        text-align: right;\n",
       "    }\n",
       "</style>\n",
       "<table border=\"1\" class=\"dataframe\">\n",
       "  <thead>\n",
       "    <tr style=\"text-align: right;\">\n",
       "      <th></th>\n",
       "      <th>x</th>\n",
       "      <th>y</th>\n",
       "    </tr>\n",
       "  </thead>\n",
       "  <tbody>\n",
       "    <tr>\n",
       "      <th>0</th>\n",
       "      <td>0.10</td>\n",
       "      <td>0.60</td>\n",
       "    </tr>\n",
       "    <tr>\n",
       "      <th>1</th>\n",
       "      <td>0.15</td>\n",
       "      <td>0.71</td>\n",
       "    </tr>\n",
       "    <tr>\n",
       "      <th>2</th>\n",
       "      <td>0.08</td>\n",
       "      <td>0.90</td>\n",
       "    </tr>\n",
       "    <tr>\n",
       "      <th>3</th>\n",
       "      <td>0.16</td>\n",
       "      <td>0.85</td>\n",
       "    </tr>\n",
       "    <tr>\n",
       "      <th>4</th>\n",
       "      <td>0.20</td>\n",
       "      <td>0.30</td>\n",
       "    </tr>\n",
       "    <tr>\n",
       "      <th>5</th>\n",
       "      <td>0.25</td>\n",
       "      <td>0.50</td>\n",
       "    </tr>\n",
       "    <tr>\n",
       "      <th>6</th>\n",
       "      <td>0.24</td>\n",
       "      <td>0.10</td>\n",
       "    </tr>\n",
       "    <tr>\n",
       "      <th>7</th>\n",
       "      <td>0.30</td>\n",
       "      <td>0.20</td>\n",
       "    </tr>\n",
       "  </tbody>\n",
       "</table>\n",
       "</div>"
      ],
      "text/plain": [
       "      x     y\n",
       "0  0.10  0.60\n",
       "1  0.15  0.71\n",
       "2  0.08  0.90\n",
       "3  0.16  0.85\n",
       "4  0.20  0.30\n",
       "5  0.25  0.50\n",
       "6  0.24  0.10\n",
       "7  0.30  0.20"
      ]
     },
     "execution_count": 56,
     "metadata": {},
     "output_type": "execute_result"
    }
   ],
   "source": [
    "raw_df = pd.DataFrame()\n",
    "x = [p[0] for p in points]\n",
    "y = [p[1] for p in points]\n",
    "raw_df['x'] = x\n",
    "raw_df['y'] = y\n",
    "raw_df"
   ]
  },
  {
   "cell_type": "code",
   "execution_count": 62,
   "id": "f1bae13d",
   "metadata": {},
   "outputs": [
    {
     "data": {
      "text/plain": [
       "<AxesSubplot:xlabel='x', ylabel='y'>"
      ]
     },
     "execution_count": 62,
     "metadata": {},
     "output_type": "execute_result"
    },
    {
     "data": {
      "image/png": "[encoded data removed]",
      "text/plain": [
       "<Figure size 504x504 with 1 Axes>"
      ]
     },
     "metadata": {},
     "output_type": "display_data"
    }
   ],
   "source": [
    "sns.scatterplot(data = raw_df,x='x',y='y')"
   ]
  },
  {
   "cell_type": "code",
   "execution_count": 58,
   "id": "81ab73bb",
   "metadata": {},
   "outputs": [],
   "source": [
    "model =KMeans(2)"
   ]
  },
  {
   "cell_type": "code",
   "execution_count": 59,
   "id": "32362a87",
   "metadata": {},
   "outputs": [
    {
     "name": "stdout",
     "output_type": "stream",
     "text": [
      "[set(), set()]\n",
      "[(0.1, 0.6), (0.3, 0.2)]\n",
      "[array([0.148, 0.712]), array([0.24666667, 0.2       ])]\n"
     ]
    }
   ],
   "source": [
    "clusters, centroids = model.fit(points, centroids = [(0.1, 0.6),(0.3,0.2)])"
   ]
  },
  {
   "cell_type": "code",
   "execution_count": 60,
   "id": "ce137dad",
   "metadata": {},
   "outputs": [
    {
     "data": {
      "text/html": [
       "<div>\n",
       "<style scoped>\n",
       "    .dataframe tbody tr th:only-of-type {\n",
       "        vertical-align: middle;\n",
       "    }\n",
       "\n",
       "    .dataframe tbody tr th {\n",
       "        vertical-align: top;\n",
       "    }\n",
       "\n",
       "    .dataframe thead th {\n",
       "        text-align: right;\n",
       "    }\n",
       "</style>\n",
       "<table border=\"1\" class=\"dataframe\">\n",
       "  <thead>\n",
       "    <tr style=\"text-align: right;\">\n",
       "      <th></th>\n",
       "      <th>x</th>\n",
       "      <th>y</th>\n",
       "      <th>category</th>\n",
       "    </tr>\n",
       "  </thead>\n",
       "  <tbody>\n",
       "    <tr>\n",
       "      <th>0</th>\n",
       "      <td>0.150000</td>\n",
       "      <td>0.710</td>\n",
       "      <td>0</td>\n",
       "    </tr>\n",
       "    <tr>\n",
       "      <th>1</th>\n",
       "      <td>0.250000</td>\n",
       "      <td>0.500</td>\n",
       "      <td>0</td>\n",
       "    </tr>\n",
       "    <tr>\n",
       "      <th>2</th>\n",
       "      <td>0.100000</td>\n",
       "      <td>0.600</td>\n",
       "      <td>0</td>\n",
       "    </tr>\n",
       "    <tr>\n",
       "      <th>3</th>\n",
       "      <td>0.160000</td>\n",
       "      <td>0.850</td>\n",
       "      <td>0</td>\n",
       "    </tr>\n",
       "    <tr>\n",
       "      <th>4</th>\n",
       "      <td>0.080000</td>\n",
       "      <td>0.900</td>\n",
       "      <td>0</td>\n",
       "    </tr>\n",
       "    <tr>\n",
       "      <th>5</th>\n",
       "      <td>0.240000</td>\n",
       "      <td>0.100</td>\n",
       "      <td>1</td>\n",
       "    </tr>\n",
       "    <tr>\n",
       "      <th>6</th>\n",
       "      <td>0.200000</td>\n",
       "      <td>0.300</td>\n",
       "      <td>1</td>\n",
       "    </tr>\n",
       "    <tr>\n",
       "      <th>7</th>\n",
       "      <td>0.300000</td>\n",
       "      <td>0.200</td>\n",
       "      <td>1</td>\n",
       "    </tr>\n",
       "    <tr>\n",
       "      <th>8</th>\n",
       "      <td>0.148000</td>\n",
       "      <td>0.712</td>\n",
       "      <td>Centroid</td>\n",
       "    </tr>\n",
       "    <tr>\n",
       "      <th>9</th>\n",
       "      <td>0.246667</td>\n",
       "      <td>0.200</td>\n",
       "      <td>Centroid</td>\n",
       "    </tr>\n",
       "  </tbody>\n",
       "</table>\n",
       "</div>"
      ],
      "text/plain": [
       "          x      y  category\n",
       "0  0.150000  0.710         0\n",
       "1  0.250000  0.500         0\n",
       "2  0.100000  0.600         0\n",
       "3  0.160000  0.850         0\n",
       "4  0.080000  0.900         0\n",
       "5  0.240000  0.100         1\n",
       "6  0.200000  0.300         1\n",
       "7  0.300000  0.200         1\n",
       "8  0.148000  0.712  Centroid\n",
       "9  0.246667  0.200  Centroid"
      ]
     },
     "execution_count": 60,
     "metadata": {},
     "output_type": "execute_result"
    }
   ],
   "source": [
    "clustered_df = pd.DataFrame()\n",
    "x=[]\n",
    "y=[]\n",
    "category=[]\n",
    "for i in range(len(clusters)):\n",
    "    for p in clusters[i]:\n",
    "        x.append(p[0])\n",
    "        y.append(p[1])\n",
    "        category.append(f'{i}')\n",
    "\n",
    "for c in centroids:\n",
    "    x.append(c[0])\n",
    "    y.append(c[1])\n",
    "    category.append('Centroid')\n",
    "\n",
    "clustered_df['x']=x\n",
    "clustered_df['y']=y\n",
    "clustered_df['category']=category\n",
    "clustered_df\n"
   ]
  },
  {
   "cell_type": "code",
   "execution_count": 61,
   "id": "1d677428",
   "metadata": {},
   "outputs": [
    {
     "data": {
      "text/plain": [
       "<AxesSubplot:xlabel='x', ylabel='y'>"
      ]
     },
     "execution_count": 61,
     "metadata": {},
     "output_type": "execute_result"
    },
    {
     "data": {
      "image/png": "[encoded data removed]",
      "text/plain": [
       "<Figure size 504x504 with 1 Axes>"
      ]
     },
     "metadata": {},
     "output_type": "display_data"
    }
   ],
   "source": [
    "sns.scatterplot(data=clustered_df,x='x',y='y',hue='category')"
   ]
  },
  {
   "cell_type": "code",
   "execution_count": null,
   "id": "242f9119",
   "metadata": {},
   "outputs": [],
   "source": []
  }
 ],
 "metadata": {
  "kernelspec": {
   "display_name": "Python 3",
   "language": "python",
   "name": "python3"
  },
  "language_info": {
   "codemirror_mode": {
    "name": "ipython",
    "version": 3
   },
   "file_extension": ".py",
   "mimetype": "text/x-python",
   "name": "python",
   "nbconvert_exporter": "python",
   "pygments_lexer": "ipython3",
   "version": "3.8.8"
  }
 },
 "nbformat": 4,
 "nbformat_minor": 5
}
