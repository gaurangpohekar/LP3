{
 "cells": [
  {
   "cell_type": "code",
   "execution_count": 1,
   "id": "3728782d",
   "metadata": {},
   "outputs": [],
   "source": [
    "import random"
   ]
  },
  {
   "cell_type": "code",
   "execution_count": 10,
   "id": "61af5bea",
   "metadata": {},
   "outputs": [],
   "source": [
    "def generate(n,g):\n",
    "    print(\"Modulus\",n)\n",
    "    print(\"Base\",g)\n",
    "    \n",
    "    a=random.randint(2,1000)\n",
    "    b=random.randint(2,1000)\n",
    "    \n",
    "    print(\"Number chosen by A\",a)\n",
    "    print(\"Number chosen by B\",b)\n",
    "    \n",
    "    A=pow(g,a)%n\n",
    "    B=pow(g,b)%n\n",
    "    \n",
    "    print(A)\n",
    "    print(B)\n",
    "    \n",
    "    s1=pow(B,a)%n\n",
    "    s2=pow(A,b)%n\n",
    "    \n",
    "    print(\"secret key\",s1)\n",
    "    print(\"secret key\",s2)"
   ]
  },
  {
   "cell_type": "code",
   "execution_count": 11,
   "id": "1479bba6",
   "metadata": {},
   "outputs": [
    {
     "name": "stdout",
     "output_type": "stream",
     "text": [
      "Modulus 23\n",
      "Base 9\n",
      "Number chosen by A 442\n",
      "Number chosen by B 544\n",
      "12\n",
      "8\n",
      "secret key 18\n",
      "secret key 18\n"
     ]
    }
   ],
   "source": [
    "generate(23,9)"
   ]
  },
  {
   "cell_type": "code",
   "execution_count": 4,
   "id": "ff9e80ae",
   "metadata": {},
   "outputs": [],
   "source": [
    "r=pow(9,973)%23"
   ]
  },
  {
   "cell_type": "code",
   "execution_count": 5,
   "id": "9b6def81",
   "metadata": {},
   "outputs": [
    {
     "data": {
      "text/plain": [
       "8"
      ]
     },
     "execution_count": 5,
     "metadata": {},
     "output_type": "execute_result"
    }
   ],
   "source": [
    "r"
   ]
  },
  {
   "cell_type": "code",
   "execution_count": null,
   "id": "65e5ab6f",
   "metadata": {},
   "outputs": [],
   "source": []
  }
 ],
 "metadata": {
  "kernelspec": {
   "display_name": "Python 3",
   "language": "python",
   "name": "python3"
  },
  "language_info": {
   "codemirror_mode": {
    "name": "ipython",
    "version": 3
   },
   "file_extension": ".py",
   "mimetype": "text/x-python",
   "name": "python",
   "nbconvert_exporter": "python",
   "pygments_lexer": "ipython3",
   "version": "3.8.8"
  }
 },
 "nbformat": 4,
 "nbformat_minor": 5
}
