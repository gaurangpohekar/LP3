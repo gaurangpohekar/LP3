{
 "cells": [
  {
   "cell_type": "code",
   "execution_count": 14,
   "id": "75962251",
   "metadata": {},
   "outputs": [],
   "source": [
    "P10 = [3, 5, 2, 7, 4, 10, 1, 9, 8, 6]\n",
    "P8 = [6, 3, 7, 4, 8, 5, 10, 9]\n",
    "IP = [2, 6, 3, 1, 4, 8, 5, 7]\n",
    "EP = [4, 1, 2, 3, 2, 3, 4, 1]\n",
    "P4 = [2, 4, 3, 1]\n",
    "IP_inv = [4, 1, 3, 5, 7, 2, 8, 6]\n",
    "S0 = [[1,0,3,2],\n",
    "      [3,2,1,0],\n",
    "      [0,2,1,3],\n",
    "      [3,1,3,2]]\n",
    "\n",
    "S1=  [[0,1,2,3],\n",
    "      [2,0,1,3],\n",
    "      [3,0,1,0],\n",
    "      [2,1,0,3]]"
   ]
  },
  {
   "cell_type": "code",
   "execution_count": 27,
   "id": "d3f4155e",
   "metadata": {},
   "outputs": [],
   "source": [
    "def bin_to_dec(x):\n",
    "    return int(x,2)\n",
    "def dec_to_bin(x):\n",
    "    return bin(x).replace(\"0b\",\"\")"
   ]
  },
  {
   "cell_type": "code",
   "execution_count": 28,
   "id": "334e6c1a",
   "metadata": {},
   "outputs": [],
   "source": [
    "def left_circular_shift(x,shifts=1):\n",
    "    shifts=shifts%len(x)\n",
    "    return x[shifts:]+x[:shifts]"
   ]
  },
  {
   "cell_type": "code",
   "execution_count": 29,
   "id": "16a6f087",
   "metadata": {},
   "outputs": [],
   "source": [
    "def permutate(key,perm):\n",
    "    ret=\"\"\n",
    "    for k in perm:\n",
    "        ret+=key[k-1]\n",
    "    return ret"
   ]
  },
  {
   "cell_type": "code",
   "execution_count": 30,
   "id": "1431daec",
   "metadata": {},
   "outputs": [],
   "source": [
    "def split_str(key):\n",
    "    half=len(key)//2\n",
    "    key1=key[:half]\n",
    "    key2=key[half:]\n",
    "    return key1,key2"
   ]
  },
  {
   "cell_type": "code",
   "execution_count": 31,
   "id": "dd3fba3e",
   "metadata": {},
   "outputs": [],
   "source": [
    "def xor(a,b):\n",
    "    ret=\"\"\n",
    "    for i in range(len(a)):\n",
    "        if a[i]==b[i]: ret+=\"0\"\n",
    "        else: ret+=\"1\"\n",
    "    return ret"
   ]
  },
  {
   "cell_type": "code",
   "execution_count": 32,
   "id": "1374b010",
   "metadata": {},
   "outputs": [],
   "source": [
    "def generatesubkeys(key):\n",
    "    n_key=permutate(key,P10)\n",
    "    leftkey,rightkey=split_str(n_key)\n",
    "    leftkey=left_circular_shift(leftkey,1)\n",
    "    rightkey=left_circular_shift(rightkey,1)\n",
    "    \n",
    "    k1=permutate(leftkey+rightkey,P8)\n",
    "    \n",
    "    leftkey=left_circular_shift(leftkey,2)\n",
    "    rightkey=left_circular_shift(rightkey,2)\n",
    "    \n",
    "    k2=permutate(leftkey+rightkey,P8)\n",
    "    \n",
    "    return k1,k2\n"
   ]
  },
  {
   "cell_type": "code",
   "execution_count": 33,
   "id": "c75a2ed2",
   "metadata": {},
   "outputs": [],
   "source": [
    "def s_box(text,s):\n",
    "    r=text[0]+text[3]\n",
    "    c=text[1]+text[2]\n",
    "    \n",
    "    r=bin_to_dec(r)\n",
    "    c=bin_to_dec(c)\n",
    "    \n",
    "    out=s[r][c]\n",
    "    out=dec_to_bin(out)\n",
    "    \n",
    "    while len(out)<2:\n",
    "        out=\"0\"+out\n",
    "    return out"
   ]
  },
  {
   "cell_type": "code",
   "execution_count": 56,
   "id": "c1290e87",
   "metadata": {},
   "outputs": [],
   "source": [
    "def round(left,right,subkey):\n",
    "    text=right\n",
    "    text=permutate(text,EP)\n",
    "    text=xor(text,subkey)\n",
    "    textleft,textright=split_str(text)\n",
    "    text=s_box(textleft,S0)+s_box(textright,S1)\n",
    "    text=permutate(text,P4)\n",
    "    text=xor(text,left)\n",
    "    return text,right"
   ]
  },
  {
   "cell_type": "code",
   "execution_count": 57,
   "id": "68c886cb",
   "metadata": {},
   "outputs": [],
   "source": [
    "def enc(plain,key):\n",
    "    k1,k2=generatesubkeys(key)\n",
    "    cipher=permutate(plain,IP)\n",
    "    \n",
    "    left,right=split_str(cipher)\n",
    "    left,right=round(left,right,k1)\n",
    "    \n",
    "    left,right=right,left\n",
    "    \n",
    "    left,right=round(left,right,k2)\n",
    "    \n",
    "    cipher=permutate(left+right,IP_inv)\n",
    "    \n",
    "    return cipher"
   ]
  },
  {
   "cell_type": "code",
   "execution_count": 58,
   "id": "74e2e150",
   "metadata": {},
   "outputs": [],
   "source": [
    "def decr(cipher,key):\n",
    "    k1, k2 = generatesubkeys(key)\n",
    "    plaintext = permutate(cipher, IP)\n",
    "    left, right = split_str(plaintext)\n",
    "    left, right = round(left, right, k2)\n",
    "    left, right = right, left\n",
    "    left, right = round(left, right, k1)\n",
    "    plaintext = permutate(left + right, IP_inv)\n",
    "    return plaintext"
   ]
  },
  {
   "cell_type": "code",
   "execution_count": 59,
   "id": "2f54ce9d",
   "metadata": {},
   "outputs": [],
   "source": [
    "key=\"1010001011\"\n",
    "plaintext=\"10001010\""
   ]
  },
  {
   "cell_type": "code",
   "execution_count": 60,
   "id": "aab60669",
   "metadata": {},
   "outputs": [],
   "source": [
    "c=enc(plaintext,key)"
   ]
  },
  {
   "cell_type": "code",
   "execution_count": 61,
   "id": "ffd1e7b8",
   "metadata": {},
   "outputs": [
    {
     "data": {
      "text/plain": [
       "'11000010'"
      ]
     },
     "execution_count": 61,
     "metadata": {},
     "output_type": "execute_result"
    }
   ],
   "source": [
    "c"
   ]
  },
  {
   "cell_type": "code",
   "execution_count": 62,
   "id": "eed1ffd0",
   "metadata": {},
   "outputs": [],
   "source": [
    "p=decr(c,key)"
   ]
  },
  {
   "cell_type": "code",
   "execution_count": 63,
   "id": "2df7b320",
   "metadata": {},
   "outputs": [
    {
     "data": {
      "text/plain": [
       "'10001010'"
      ]
     },
     "execution_count": 63,
     "metadata": {},
     "output_type": "execute_result"
    }
   ],
   "source": [
    "p"
   ]
  },
  {
   "cell_type": "code",
   "execution_count": null,
   "id": "1201c2c2",
   "metadata": {},
   "outputs": [],
   "source": []
  }
 ],
 "metadata": {
  "kernelspec": {
   "display_name": "Python 3",
   "language": "python",
   "name": "python3"
  },
  "language_info": {
   "codemirror_mode": {
    "name": "ipython",
    "version": 3
   },
   "file_extension": ".py",
   "mimetype": "text/x-python",
   "name": "python",
   "nbconvert_exporter": "python",
   "pygments_lexer": "ipython3",
   "version": "3.8.8"
  }
 },
 "nbformat": 4,
 "nbformat_minor": 5
}
