{
 "cells": [
  {
   "cell_type": "code",
   "execution_count": 21,
   "id": "c8c4d8ca",
   "metadata": {},
   "outputs": [],
   "source": [
    "import numpy as np\n",
    "import pandas as pd\n",
    "import matplotlib.pyplot as plt\n",
    "from sklearn.linear_model import LinearRegression"
   ]
  },
  {
   "cell_type": "code",
   "execution_count": 3,
   "id": "b2a0fc62",
   "metadata": {},
   "outputs": [],
   "source": [
    "x = np.array([10, 9, 2, 15, 10, 16, 11, 16])\n",
    "y = np.array([95, 80, 10, 50, 45, 98, 38, 93])"
   ]
  },
  {
   "cell_type": "code",
   "execution_count": 5,
   "id": "e99dbdb3",
   "metadata": {},
   "outputs": [
    {
     "data": {
      "text/plain": [
       "<matplotlib.collections.PathCollection at 0x23dca7b5400>"
      ]
     },
     "execution_count": 5,
     "metadata": {},
     "output_type": "execute_result"
    },
    {
     "data": {
      "image/png": "[encoded data removed]",
      "text/plain": [
       "<Figure size 432x288 with 1 Axes>"
      ]
     },
     "metadata": {
      "needs_background": "light"
     },
     "output_type": "display_data"
    }
   ],
   "source": [
    "plt.xlabel('No of hours')\n",
    "plt.ylabel('Risk')\n",
    "plt.scatter(x,y)"
   ]
  },
  {
   "cell_type": "code",
   "execution_count": 8,
   "id": "cd27c307",
   "metadata": {},
   "outputs": [],
   "source": [
    "def getcoeff(x,y):\n",
    "    mean_x=np.mean(x)\n",
    "    mean_y=np.mean(y)\n",
    "    \n",
    "    numer=0\n",
    "    denom=0\n",
    "    n=len(x)\n",
    "    \n",
    "    for i in range(n):\n",
    "        numer+=((x[i]-mean_x)*(y[i]-mean_y))\n",
    "        denom+=(x[i]-mean_x)**2\n",
    "        \n",
    "    b1=numer/denom\n",
    "    b0=mean_y-b1*mean_x\n",
    "    \n",
    "    return (b0,b1)\n",
    "    "
   ]
  },
  {
   "cell_type": "code",
   "execution_count": 9,
   "id": "249edf4d",
   "metadata": {},
   "outputs": [
    {
     "name": "stdout",
     "output_type": "stream",
     "text": [
      "12.584627964022893\n",
      "4.58789860997547\n"
     ]
    }
   ],
   "source": [
    "coefs=getcoeff(x,y)\n",
    "print(coefs[0])\n",
    "print(coefs[1])"
   ]
  },
  {
   "cell_type": "code",
   "execution_count": 11,
   "id": "4c22f936",
   "metadata": {},
   "outputs": [
    {
     "data": {
      "text/plain": [
       "[<matplotlib.lines.Line2D at 0x23dca848eb0>]"
      ]
     },
     "execution_count": 11,
     "metadata": {},
     "output_type": "execute_result"
    },
    {
     "data": {
      "image/png": "[encoded data removed]",
      "text/plain": [
       "<Figure size 432x288 with 1 Axes>"
      ]
     },
     "metadata": {
      "needs_background": "light"
     },
     "output_type": "display_data"
    }
   ],
   "source": [
    "plt.xlabel('No of hours')\n",
    "plt.ylabel('Risk')\n",
    "plt.scatter(x,y)\n",
    "y_preds=coefs[0]+coefs[1]*x\n",
    "plt.plot(x,y_preds)"
   ]
  },
  {
   "cell_type": "code",
   "execution_count": 22,
   "id": "20d5d96d",
   "metadata": {},
   "outputs": [],
   "source": [
    "model=LinearRegression()"
   ]
  },
  {
   "cell_type": "code",
   "execution_count": 25,
   "id": "981ef803",
   "metadata": {},
   "outputs": [],
   "source": [
    "x=np.array(x).reshape(-1,1)"
   ]
  },
  {
   "cell_type": "code",
   "execution_count": 26,
   "id": "bde93d78",
   "metadata": {},
   "outputs": [
    {
     "data": {
      "text/plain": [
       "LinearRegression()"
      ]
     },
     "execution_count": 26,
     "metadata": {},
     "output_type": "execute_result"
    }
   ],
   "source": [
    "model.fit(x,y)"
   ]
  },
  {
   "cell_type": "code",
   "execution_count": 27,
   "id": "231bcf61",
   "metadata": {},
   "outputs": [],
   "source": [
    "y_pred=model.predict(x)"
   ]
  },
  {
   "cell_type": "code",
   "execution_count": 29,
   "id": "7d5bc9e2",
   "metadata": {},
   "outputs": [
    {
     "data": {
      "text/plain": [
       "array([58.46361406, 53.87571545, 21.76042518, 81.40310711, 58.46361406,\n",
       "       85.99100572, 63.05151267, 85.99100572])"
      ]
     },
     "execution_count": 29,
     "metadata": {},
     "output_type": "execute_result"
    }
   ],
   "source": [
    "y_pred"
   ]
  },
  {
   "cell_type": "code",
   "execution_count": 30,
   "id": "43f10472",
   "metadata": {},
   "outputs": [
    {
     "data": {
      "text/plain": [
       "[<matplotlib.lines.Line2D at 0x23ddad66ac0>]"
      ]
     },
     "execution_count": 30,
     "metadata": {},
     "output_type": "execute_result"
    },
    {
     "data": {
      "image/png": "[encoded data removed]",
      "text/plain": [
       "<Figure size 432x288 with 1 Axes>"
      ]
     },
     "metadata": {
      "needs_background": "light"
     },
     "output_type": "display_data"
    }
   ],
   "source": [
    "plt.xlabel('No of hours')\n",
    "plt.ylabel('Risk')\n",
    "plt.scatter(x,y)\n",
    "y_preds=coefs[0]+coefs[1]*x\n",
    "plt.plot(x,y_preds)"
   ]
  },
  {
   "cell_type": "code",
   "execution_count": null,
   "id": "9746047f",
   "metadata": {},
   "outputs": [],
   "source": []
  }
 ],
 "metadata": {
  "kernelspec": {
   "display_name": "Python 3",
   "language": "python",
   "name": "python3"
  },
  "language_info": {
   "codemirror_mode": {
    "name": "ipython",
    "version": 3
   },
   "file_extension": ".py",
   "mimetype": "text/x-python",
   "name": "python",
   "nbconvert_exporter": "python",
   "pygments_lexer": "ipython3",
   "version": "3.8.8"
  }
 },
 "nbformat": 4,
 "nbformat_minor": 5
}
