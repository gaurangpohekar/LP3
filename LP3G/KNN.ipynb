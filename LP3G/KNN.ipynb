{
 "cells": [
  {
   "cell_type": "code",
   "execution_count": 1,
   "id": "4e8fbd41",
   "metadata": {},
   "outputs": [],
   "source": [
    "import numpy as np"
   ]
  },
  {
   "cell_type": "code",
   "execution_count": 33,
   "id": "20b8c1a3",
   "metadata": {},
   "outputs": [],
   "source": [
    "class kNN:\n",
    "    def __init__(self,k):\n",
    "        self.k=k\n",
    "        self.X=[]\n",
    "        self.y=[]\n",
    "        \n",
    "    def fit(self,X,y):\n",
    "        self.X = self.X+X\n",
    "        self.y = self.y+y\n",
    "        \n",
    "    def __distance(self,x,y):\n",
    "        return (x[0]-y[0])**2+(x[1]-y[1])**2\n",
    "    \n",
    "    def __getclass(self,X):\n",
    "        distances=[]\n",
    "        for i in range(len(self.X)):\n",
    "            distances.append((self.__distance(X,self.X[i]),self.y[i]))\n",
    "        \n",
    "        print(distances)\n",
    "        distances.sort()\n",
    "        distances=distances[:self.k]\n",
    "        counts={}\n",
    "        for d in distances:\n",
    "            try:counts[d[1]] += 1\n",
    "            except:counts[d[1]] =1\n",
    "        \n",
    "        print(counts)\n",
    "        print(max(counts,key=lambda i: counts[i]))\n",
    "        return max(counts,key=lambda i: counts[i])\n",
    "    \n",
    "    def predict(self,X):\n",
    "        preds=[]\n",
    "        for x in X:\n",
    "            preds.append(self.__getclass(x))\n",
    "        return preds\n",
    "    \n",
    "    def __get_weighted_class(self, X):\n",
    "        distances = []\n",
    "        for i in range(len(self.X)):\n",
    "            distances.append((self.__distance(X, self.X[i]), self.y[i]))\n",
    "        distances.sort()\n",
    "        distances = distances[:self.k]\n",
    "        counts = {}\n",
    "        for d in distances:\n",
    "            try: counts[d[1]] += 1 / d[0]\n",
    "            except: counts[d[1]] = 1 / d[0]\n",
    "                \n",
    "        print(counts)\n",
    "        print(max(counts,key=lambda i: counts[i]))        \n",
    "        return max(counts, key = lambda i: counts[i])\n",
    "    \n",
    "    def predict_weighted(self, X):\n",
    "        preds = []\n",
    "        for x in X:\n",
    "            preds.append(self.__get_weighted_class(x))\n",
    "            \n",
    "        return preds\n",
    "    \n",
    "    def __get_locally_weighted_average_class(self, X):\n",
    "        distances = []\n",
    "        for i in range(len(self.X)):\n",
    "            distances.append((self.__distance(X, self.X[i]), self.y[i]))\n",
    "            distances.sort()\n",
    "            distances = distances[:self.k]\n",
    "            counts = {}\n",
    "        for d in distances:\n",
    "            try: counts[d[1]].append(1 / d[0])\n",
    "            except: counts[d[1]] = [1 / d[0]]\n",
    "                \n",
    "        print(counts)       \n",
    "        for c in counts:\n",
    "            counts[c] = np.mean(counts[c])\n",
    "        \n",
    "        print(counts)\n",
    "        print(max(counts,key=lambda i: counts[i]))\n",
    "        return max(counts, key = lambda i: counts[i])\n",
    "    \n",
    "    def predict_locally_weighted_average(self, X):\n",
    "        preds = []\n",
    "        for x in X:\n",
    "            preds.append(self.__get_locally_weighted_average_class(x))\n",
    "    \n",
    "        return preds\n",
    "    \n",
    "\n",
    "\n",
    "\n"
   ]
  },
  {
   "cell_type": "code",
   "execution_count": null,
   "id": "e97c8f9d",
   "metadata": {},
   "outputs": [],
   "source": []
  },
  {
   "cell_type": "code",
   "execution_count": 34,
   "id": "1904ebe3",
   "metadata": {},
   "outputs": [],
   "source": [
    "X = [\n",
    "     (2, 4),\n",
    "     (4, 6),\n",
    "     (4, 4),\n",
    "     (4, 2),\n",
    "     (6, 4),\n",
    "     (6 ,2)\n",
    "]\n",
    "y = ['Y', 'Y', 'B', 'Y', 'Y', 'B']"
   ]
  },
  {
   "cell_type": "code",
   "execution_count": 35,
   "id": "ab9a2999",
   "metadata": {},
   "outputs": [
    {
     "data": {
      "text/plain": [
       "[(2, 4), (4, 6), (4, 4), (4, 2), (6, 4), (6, 2)]"
      ]
     },
     "execution_count": 35,
     "metadata": {},
     "output_type": "execute_result"
    }
   ],
   "source": [
    "X"
   ]
  },
  {
   "cell_type": "code",
   "execution_count": 36,
   "id": "dfcb4a6d",
   "metadata": {},
   "outputs": [],
   "source": [
    "model = kNN(3)"
   ]
  },
  {
   "cell_type": "code",
   "execution_count": 37,
   "id": "904c7870",
   "metadata": {},
   "outputs": [],
   "source": [
    "model.fit(X,y)"
   ]
  },
  {
   "cell_type": "code",
   "execution_count": 38,
   "id": "fbef100e",
   "metadata": {},
   "outputs": [
    {
     "name": "stdout",
     "output_type": "stream",
     "text": [
      "[(41, 'Y'), (13, 'Y'), (25, 'B'), (45, 'Y'), (17, 'Y'), (37, 'B')]\n",
      "{'Y': 2, 'B': 1}\n",
      "Y\n",
      "Standard k-NN: ['Y']\n"
     ]
    }
   ],
   "source": [
    "print(f'Standard k-NN: {model.predict([(7, 8)])}')"
   ]
  },
  {
   "cell_type": "code",
   "execution_count": 39,
   "id": "13e1c2c2",
   "metadata": {},
   "outputs": [
    {
     "name": "stdout",
     "output_type": "stream",
     "text": [
      "{'Y': 0.5, 'B': 0.125}\n",
      "Y\n",
      "Distance Weighted k-NN: ['Y']\n"
     ]
    }
   ],
   "source": [
    "print(f'Distance Weighted k-NN: {model.predict_weighted([(6, 6)])}')"
   ]
  },
  {
   "cell_type": "code",
   "execution_count": 40,
   "id": "053c1eff",
   "metadata": {},
   "outputs": [
    {
     "name": "stdout",
     "output_type": "stream",
     "text": [
      "{'Y': [0.25, 0.25], 'B': [0.125]}\n",
      "{'Y': 0.25, 'B': 0.125}\n",
      "Y\n",
      "Locally Weighted Average k-NN: ['Y']\n"
     ]
    }
   ],
   "source": [
    "print(f'Locally Weighted Average k-NN: {model.predict_locally_weighted_average([(6, 6)])}')"
   ]
  },
  {
   "cell_type": "code",
   "execution_count": null,
   "id": "fdbd55e7",
   "metadata": {},
   "outputs": [],
   "source": []
  }
 ],
 "metadata": {
  "kernelspec": {
   "display_name": "Python 3",
   "language": "python",
   "name": "python3"
  },
  "language_info": {
   "codemirror_mode": {
    "name": "ipython",
    "version": 3
   },
   "file_extension": ".py",
   "mimetype": "text/x-python",
   "name": "python",
   "nbconvert_exporter": "python",
   "pygments_lexer": "ipython3",
   "version": "3.8.8"
  }
 },
 "nbformat": 4,
 "nbformat_minor": 5
}
